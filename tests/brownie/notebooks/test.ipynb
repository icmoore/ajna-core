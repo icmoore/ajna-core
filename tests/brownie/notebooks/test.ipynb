{
 "cells": [
  {
   "cell_type": "markdown",
   "id": "3362447b-090f-4d53-8d7f-c7c06b470c45",
   "metadata": {},
   "source": [
    "### Test Ajna SDK\n",
    "\n",
    "Ganache UI Settings\n",
    "* Fork URL: https://eth-mainnet.alchemyapi.io/v2/EXgIPdwMutwBymbktM6aE54w_rIqBPs9\n",
    "* Port: 8545\n",
    "* Miner Gas Limit: 12000000\n",
    "* Hardfork: istanbul\n",
    "\n",
    "```\n",
    "> python -m pip install virtualenv --user\n",
    "> python3 -m virtualenv -p python3 ~/py3_kernel\n",
    "> source ~/py3_kernel/bin/activate\n",
    "> python -m pip install ipykernel\n",
    "> ipython kernel install --name py3 --user\n",
    "> deactivate\n",
    "> jupyter kernelspec list\n",
    "\n",
    "> import os\n",
    "> cwd =  os.getcwd()\n",
    "> cwd += '/repos/ajna-core/tests/brownie/notebooks'\n",
    "> os.chdir(cwd)\n",
    "> !jupyter nbconvert --to script test.ipynb\n",
    "```\n",
    "* https://stackoverflow.com/questions/30492623/using-both-python-2-x-and-python-3-x-in-ipython-notebook/37857536#37857536"
   ]
  },
  {
   "cell_type": "markdown",
   "id": "4fed2bf8-fc4a-49aa-8e9a-b0a58f55ec19",
   "metadata": {},
   "source": [
    "```\n",
    "> brownie console\n",
    "> import os    \n",
    "> cwd =  os.getcwd()\n",
    "> cwd += '/tests/brownie/notebooks'\n",
    "> os.chdir(cwd)\n",
    "> exec(open(\"test.py\").read())\n",
    "```"
   ]
  },
  {
   "cell_type": "code",
   "execution_count": 1,
   "id": "216ce218-e72d-4476-b107-dcd9d973cd6b",
   "metadata": {},
   "outputs": [
    {
     "name": "stdout",
     "output_type": "stream",
     "text": [
      "/Users/ian_moore/repos/ajna-core/tests/brownie/\n"
     ]
    }
   ],
   "source": [
    "import os\n",
    "cwd =  os.getcwd().replace(\"notebooks\",\"\")\n",
    "os.chdir(cwd)\n",
    "print(cwd)"
   ]
  },
  {
   "cell_type": "code",
   "execution_count": null,
   "id": "fb5dd404-c8ea-4ca6-aa6d-dc7ab8699c43",
   "metadata": {},
   "outputs": [],
   "source": [
    "#from sdk import *"
   ]
  }
 ],
 "metadata": {
  "kernelspec": {
   "display_name": "py3",
   "language": "python",
   "name": "py3"
  },
  "language_info": {
   "codemirror_mode": {
    "name": "ipython",
    "version": 3
   },
   "file_extension": ".py",
   "mimetype": "text/x-python",
   "name": "python",
   "nbconvert_exporter": "python",
   "pygments_lexer": "ipython3",
   "version": "3.10.0rc2"
  }
 },
 "nbformat": 4,
 "nbformat_minor": 5
}
